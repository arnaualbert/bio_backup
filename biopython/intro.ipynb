{
 "cells": [
  {
   "attachments": {},
   "cell_type": "markdown",
   "metadata": {},
   "source": [
    "Tratado de sequencias"
   ]
  },
  {
   "cell_type": "code",
   "execution_count": 1,
   "metadata": {},
   "outputs": [],
   "source": [
    "from Bio.Seq import Seq\n",
    "my_seq = Seq(\"GATAGATAT\")\n",
    "#AGTACACTGGT\n"
   ]
  },
  {
   "cell_type": "code",
   "execution_count": 2,
   "metadata": {},
   "outputs": [
    {
     "name": "stdout",
     "output_type": "stream",
     "text": [
      "Seq:                    GATAGATAT\n",
      "Seq complement:         CTATCTATA\n",
      "Seq reverse complement: ATATCTATC\n"
     ]
    }
   ],
   "source": [
    "my_seq\n",
    "my_seq_complement = my_seq.complement()\n",
    "my_seq_reverse_complement = my_seq.reverse_complement()\n",
    "\n",
    "print(f'Seq:                    {my_seq}')\n",
    "print(f'Seq complement:         {my_seq_complement}')\n",
    "print(f'Seq reverse complement: {my_seq_reverse_complement}')\n"
   ]
  },
  {
   "cell_type": "code",
   "execution_count": 3,
   "metadata": {},
   "outputs": [
    {
     "name": "stdout",
     "output_type": "stream",
     "text": [
      "Seq:            GATAGATAT\n",
      "DNA to Protein: DRY\n",
      "DNA to RNA:     GAUAGAUAU\n"
     ]
    }
   ],
   "source": [
    "my_seq_translate = my_seq.translate()\n",
    "my_seq_transcibre = my_seq.transcribe()\n",
    "\n",
    "print(f'Seq:            {my_seq}')\n",
    "print(f'DNA to Protein: {my_seq_translate}')\n",
    "print(f'DNA to RNA:     {my_seq_transcibre}')"
   ]
  },
  {
   "attachments": {},
   "cell_type": "markdown",
   "metadata": {},
   "source": [
    "Simple FASTA parsing example"
   ]
  },
  {
   "cell_type": "code",
   "execution_count": 4,
   "metadata": {},
   "outputs": [
    {
     "name": "stdout",
     "output_type": "stream",
     "text": [
      "quantas sequencias hay : 94\n",
      "sequencia 2 del fasta ID: gi|2765657|emb|Z78532.1|CCZ78532\n",
      "Name: gi|2765657|emb|Z78532.1|CCZ78532\n",
      "Description: gi|2765657|emb|Z78532.1|CCZ78532 C.californicum 5.8S rRNA gene and ITS1 and ITS2 DNA\n",
      "Number of features: 0\n",
      "Seq('CGTAACAAGGTTTCCGTAGGTGAACCTGCGGAAGGATCATTGTTGAGACAACAG...GGC')\n"
     ]
    }
   ],
   "source": [
    "from Bio import SeqIO\n",
    "seq_list = list(SeqIO.parse(\"ls_orchid.fasta\",\"fasta\"))\n",
    "print(f'quantas sequencias hay : {len(seq_list)}')\n",
    "print(f'sequencia 2 del fasta {seq_list[1]}')"
   ]
  },
  {
   "cell_type": "code",
   "execution_count": 5,
   "metadata": {},
   "outputs": [
    {
     "name": "stdout",
     "output_type": "stream",
     "text": [
      "ID: gi|2765657|emb|Z78532.1|CCZ78532\n",
      "Name: gi|2765657|emb|Z78532.1|CCZ78532\n",
      "Description: gi|2765657|emb|Z78532.1|CCZ78532 C.californicum 5.8S rRNA gene and ITS1 and ITS2 DNA\n",
      "Number of features: 0\n",
      "Seq('CGTAACAAGGTTTCCGTAGGTGAACCTGCGGAAGGATCATTGTTGAGACAACAG...GGC')\n"
     ]
    }
   ],
   "source": [
    "californicum = seq_list[1]\n",
    "print(californicum)"
   ]
  },
  {
   "cell_type": "code",
   "execution_count": 6,
   "metadata": {},
   "outputs": [],
   "source": [
    "# from Bio import SeqIO\n",
    "# for seq_record in SeqIO.parse(\"ls_orchid.fasta\", \"fasta\"):\n",
    "#     print(seq_record.id)\n",
    "#     print(repr(seq_record.seq))\n",
    "#     print(len(seq_record))"
   ]
  },
  {
   "cell_type": "code",
   "execution_count": 7,
   "metadata": {},
   "outputs": [
    {
     "name": "stdout",
     "output_type": "stream",
     "text": [
      "Id:       NC_045512.2\n",
      "Sequence: Seq('ATTAAAGGTTTATACCTTCCCAGGTAACAAACCAACCAACTTTCGATCTCTTGT...AAA')\n"
     ]
    }
   ],
   "source": [
    "# record = list(SeqIO.parse('./sars-cov-2.gb','genbank'))[0]\n",
    "record = SeqIO.read('./sars-cov-2.gb','genbank')\n",
    "print(f'Id:       {record.id}')\n",
    "print(f'Sequence: {repr(record.seq)}')\n",
    "# record"
   ]
  },
  {
   "cell_type": "code",
   "execution_count": 8,
   "metadata": {},
   "outputs": [
    {
     "data": {
      "text/plain": [
       "['__add__',\n",
       " '__bool__',\n",
       " '__class__',\n",
       " '__contains__',\n",
       " '__delattr__',\n",
       " '__dict__',\n",
       " '__dir__',\n",
       " '__doc__',\n",
       " '__eq__',\n",
       " '__format__',\n",
       " '__ge__',\n",
       " '__getattribute__',\n",
       " '__getitem__',\n",
       " '__gt__',\n",
       " '__hash__',\n",
       " '__init__',\n",
       " '__init_subclass__',\n",
       " '__iter__',\n",
       " '__le__',\n",
       " '__len__',\n",
       " '__lt__',\n",
       " '__module__',\n",
       " '__ne__',\n",
       " '__new__',\n",
       " '__radd__',\n",
       " '__reduce__',\n",
       " '__reduce_ex__',\n",
       " '__repr__',\n",
       " '__setattr__',\n",
       " '__sizeof__',\n",
       " '__str__',\n",
       " '__subclasshook__',\n",
       " '__weakref__',\n",
       " '_per_letter_annotations',\n",
       " '_seq',\n",
       " '_set_per_letter_annotations',\n",
       " '_set_seq',\n",
       " 'annotations',\n",
       " 'count',\n",
       " 'dbxrefs',\n",
       " 'description',\n",
       " 'features',\n",
       " 'format',\n",
       " 'id',\n",
       " 'islower',\n",
       " 'isupper',\n",
       " 'letter_annotations',\n",
       " 'lower',\n",
       " 'name',\n",
       " 'reverse_complement',\n",
       " 'seq',\n",
       " 'translate',\n",
       " 'upper']"
      ]
     },
     "execution_count": 8,
     "metadata": {},
     "output_type": "execute_result"
    }
   ],
   "source": [
    "# ways to inspect python objects\n",
    "#1. dir()\n",
    "dir(record)"
   ]
  },
  {
   "cell_type": "code",
   "execution_count": 9,
   "metadata": {},
   "outputs": [
    {
     "data": {
      "text/plain": [
       "['annotations',\n",
       " 'dbxrefs',\n",
       " 'description',\n",
       " 'features',\n",
       " 'id',\n",
       " 'letter_annotations',\n",
       " 'name',\n",
       " 'seq']"
      ]
     },
     "execution_count": 9,
     "metadata": {},
     "output_type": "execute_result"
    }
   ],
   "source": [
    "import inspect\n",
    "import pprint\n",
    "def explore(obj: object)->dict:\n",
    "\n",
    "    # 1. get all members\n",
    "    \n",
    "    member_list = inspect.getmembers(obj)\n",
    "\n",
    "    #2. convert to dict for ease of use\n",
    "\n",
    "    member_dict = {member[0]:member[1] for member in member_list}\n",
    "\n",
    "    #3. remove private members\n",
    "\n",
    "    member_official = {key:value for key,value in member_dict.items() if not key.startswith('_')}\n",
    "\n",
    "    #4. remove methods\n",
    "\n",
    "    public_att_dict = {key:value for key,value in member_official.items() if not inspect.ismethod(value)}\n",
    "\n",
    "    return public_att_dict\n",
    "\n",
    "list(explore(record).keys())"
   ]
  }
 ],
 "metadata": {
  "kernelspec": {
   "display_name": "bio-env",
   "language": "python",
   "name": "python3"
  },
  "language_info": {
   "codemirror_mode": {
    "name": "ipython",
    "version": 3
   },
   "file_extension": ".py",
   "mimetype": "text/x-python",
   "name": "python",
   "nbconvert_exporter": "python",
   "pygments_lexer": "ipython3",
   "version": "3.10.6 (main, Nov 14 2022, 16:10:14) [GCC 11.3.0]"
  },
  "orig_nbformat": 4,
  "vscode": {
   "interpreter": {
    "hash": "c1751468fa905f8624fe7c0bbac69bba88e0a68cb0649fca4acd6ef398749367"
   }
  }
 },
 "nbformat": 4,
 "nbformat_minor": 2
}
